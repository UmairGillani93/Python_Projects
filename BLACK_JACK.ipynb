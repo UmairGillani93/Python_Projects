{
 "cells": [
  {
   "cell_type": "code",
   "execution_count": 22,
   "metadata": {},
   "outputs": [],
   "source": [
    "import random\n",
    "\n",
    "suits = ('Hearts','Diamonds','Spades','Clubs')\n",
    "ranks = ('Two','Three','Four','Five','Six','Seven','Eight','Nine','Ten')\n",
    "values = {'Two':2,'Three':3,'Four':4,'Five':5,'Six':6,'Seven':7,'Eight':8,'Nine':9,'Ten':10,'Queen':10,'King':10,'Jack':10,'Ace':11}\n",
    "\n",
    "playing = True"
   ]
  },
  {
   "cell_type": "code",
   "execution_count": 23,
   "metadata": {},
   "outputs": [],
   "source": [
    "class Card():\n",
    "    \n",
    "    def __init__(self,suit,rank):\n",
    "        self.suit = suit\n",
    "        self.rank = rank\n",
    "        \n",
    "    def __str__(self):\n",
    "        \n",
    "        return self.rank +' of ' +self.suit\n",
    "    "
   ]
  },
  {
   "cell_type": "code",
   "execution_count": 24,
   "metadata": {},
   "outputs": [],
   "source": [
    "class Deck():\n",
    "    \n",
    "    def __init__(self):\n",
    "        self.deck = []\n",
    "        for suit in suits:\n",
    "            for rank in ranks:\n",
    "                self.deck.append(Card(suit,rank))\n",
    "                \n",
    "    def __str__(self):\n",
    "        deck_comp = ''\n",
    "        for card in self.deck:\n",
    "            deck_comp += '\\n' + card.__str__()\n",
    "        return 'The deck has ' + deck_comp\n",
    "        \n",
    "    def shuffle(self):\n",
    "        random.shuffle(self.deck)\n",
    "        \n",
    "    def deal(self):\n",
    "        single_card = self.deck.pop()\n",
    "        return single_card\n",
    "            \n",
    "    \n",
    "        \n",
    "        "
   ]
  },
  {
   "cell_type": "code",
   "execution_count": 25,
   "metadata": {},
   "outputs": [
    {
     "name": "stdout",
     "output_type": "stream",
     "text": [
      "The deck has \n",
      "Five of Diamonds\n",
      "Three of Spades\n",
      "Four of Spades\n",
      "Two of Hearts\n",
      "Six of Clubs\n",
      "Four of Diamonds\n",
      "Nine of Clubs\n",
      "Eight of Diamonds\n",
      "Nine of Hearts\n",
      "Five of Hearts\n",
      "Three of Clubs\n",
      "Seven of Diamonds\n",
      "Ten of Hearts\n",
      "Nine of Diamonds\n",
      "Five of Clubs\n",
      "Ten of Spades\n",
      "Five of Spades\n",
      "Seven of Hearts\n",
      "Three of Hearts\n",
      "Eight of Hearts\n",
      "Two of Spades\n",
      "Seven of Spades\n",
      "Two of Diamonds\n",
      "Seven of Clubs\n",
      "Six of Diamonds\n",
      "Eight of Clubs\n",
      "Eight of Spades\n",
      "Six of Spades\n",
      "Ten of Clubs\n",
      "Four of Clubs\n",
      "Three of Diamonds\n",
      "Nine of Spades\n",
      "Ten of Diamonds\n",
      "Two of Clubs\n",
      "Six of Hearts\n",
      "Four of Hearts\n"
     ]
    }
   ],
   "source": [
    "test_deck = Deck()\n",
    "test_deck.shuffle()\n",
    "print(test_deck)"
   ]
  },
  {
   "cell_type": "code",
   "execution_count": 26,
   "metadata": {},
   "outputs": [],
   "source": [
    "class Hand():\n",
    "    def __init__(self):\n",
    "        self.cards = [] # ATTRIBUTES OF THE CLASS 'HAND'\n",
    "        self.value = 0\n",
    "        self.aces = 0\n",
    "        \n",
    "    def add_card(self,card):\n",
    "        self.cards.append(card)\n",
    "        self.value += values[card.rank]\n",
    "        if card.rank == 'ACE':\n",
    "            self.aces += 1 ## ADD ONE TO self.aces\n",
    "        \n",
    "    def adjust_for_ace(self):\n",
    "        while self.value >21 and self.aces:\n",
    "            self.value -= 10\n",
    "            self.aces -= 1"
   ]
  },
  {
   "cell_type": "code",
   "execution_count": 27,
   "metadata": {},
   "outputs": [
    {
     "data": {
      "text/plain": [
       "17"
      ]
     },
     "execution_count": 27,
     "metadata": {},
     "output_type": "execute_result"
    }
   ],
   "source": [
    "test_deck = Deck()\n",
    "test_deck.shuffle()\n",
    "test_player = Hand()\n",
    "test_player.add_card(test_deck.deal())\n",
    "test_player.add_card(test_deck.deal())\n",
    "test_player.value"
   ]
  },
  {
   "cell_type": "code",
   "execution_count": 28,
   "metadata": {},
   "outputs": [
    {
     "name": "stdout",
     "output_type": "stream",
     "text": [
      "Seven of Spades\n",
      "Ten of Clubs\n"
     ]
    }
   ],
   "source": [
    "for card in test_player.cards:\n",
    "    print(card)"
   ]
  },
  {
   "cell_type": "code",
   "execution_count": 29,
   "metadata": {},
   "outputs": [],
   "source": [
    "class Chips():\n",
    "    \n",
    "    def __init__(self,total=100):\n",
    "        self.total = total\n",
    "        self.bet = 0\n",
    "        \n",
    "    def win_bet(self):\n",
    "        self.total += self.bet\n",
    "        \n",
    "    def lose_bet(self):\n",
    "        self.total -= self.bet"
   ]
  },
  {
   "cell_type": "code",
   "execution_count": 30,
   "metadata": {},
   "outputs": [],
   "source": [
    "def take_bet(chips):\n",
    "    while True:\n",
    "        try:\n",
    "            chips.bet = int(input('How many bet you want to have? '))\n",
    "            \n",
    "        except:\n",
    "            print('Sorry! You havent provide a number!')\n",
    "            \n",
    "        else:\n",
    "            if chips.bet > total.chips:\n",
    "                print('you do not have enough chips, you have {} chips'.format(total.chips))\n",
    "            else:\n",
    "                break\n",
    "                "
   ]
  },
  {
   "cell_type": "code",
   "execution_count": 31,
   "metadata": {},
   "outputs": [],
   "source": [
    "def hit(deck,hand):\n",
    "    hand.add_card(dec.deal())\n",
    "    hand.adjust_for_ace()"
   ]
  },
  {
   "cell_type": "code",
   "execution_count": 32,
   "metadata": {},
   "outputs": [],
   "source": [
    "def hit_or_stand(deck,hand):\n",
    "    while True:\n",
    "        \n",
    "        x = input('would you like to hit or stand? h or s: ')\n",
    "        if x[0].lower() == 'h':\n",
    "            hit(deck,hand)\n",
    "        elif x[0].lower() == 's':\n",
    "            print('Player stands. Dealer is playing!')\n",
    "            playing = False\n",
    "            \n",
    "        else:\n",
    "            print('Sorry! Please, try agian.')\n",
    "            continue\n",
    "        break\n",
    "            \n",
    "    \n",
    "    "
   ]
  },
  {
   "cell_type": "code",
   "execution_count": 33,
   "metadata": {},
   "outputs": [],
   "source": [
    "def show_some(player,dealer):\n",
    "    print(\"\\nDealer's Hand:\")\n",
    "    print(\" <card hidden>\")\n",
    "    print('',dealer.cards[1])  \n",
    "    print(\"\\nPlayer's Hand:\", *player.cards, sep='\\n ')\n",
    "    \n",
    "def show_all(player,dealer):\n",
    "    print(\"\\nDealer's Hand:\", *dealer.cards, sep='\\n ')\n",
    "    print(\"Dealer's Hand =\",dealer.value)\n",
    "    print(\"\\nPlayer's Hand:\", *player.cards, sep='\\n ')\n",
    "    print(\"Player's Hand =\",player.value)"
   ]
  },
  {
   "cell_type": "code",
   "execution_count": 34,
   "metadata": {},
   "outputs": [],
   "source": [
    "def player_busts(player,dealer,chips):\n",
    "    print('Player Busts!')\n",
    "    chips.lose_bet()\n",
    "    \n",
    "def player_wins(player,dealer,chips):\n",
    "    print('Player Wins!')\n",
    "    chips.win_bet()\n",
    "    \n",
    "def dealer_busts(player,dealer,chips):\n",
    "    print('Dealer Busts!')\n",
    "    chip.win_bet()\n",
    "    \n",
    "def dealer_wins(player,dealer,chips):\n",
    "    print('Dealer Wins!')\n",
    "    chip.lose_bet()\n",
    "    \n",
    "def push(player,dealer):\n",
    "    print('Dealer and Player tie! PUSH')"
   ]
  },
  {
   "cell_type": "code",
   "execution_count": 35,
   "metadata": {},
   "outputs": [
    {
     "name": "stdout",
     "output_type": "stream",
     "text": [
      "WELCOME TO THE BLACK_JACK..!!\n",
      "How many bet you want to have? 5\n"
     ]
    },
    {
     "ename": "NameError",
     "evalue": "name 'total' is not defined",
     "output_type": "error",
     "traceback": [
      "\u001b[1;31m---------------------------------------------------------------------------\u001b[0m",
      "\u001b[1;31mNameError\u001b[0m                                 Traceback (most recent call last)",
      "\u001b[1;32m<ipython-input-35-456df23fa566>\u001b[0m in \u001b[0;36m<module>\u001b[1;34m()\u001b[0m\n\u001b[0;32m     14\u001b[0m     \u001b[0mplayer_chips\u001b[0m \u001b[1;33m=\u001b[0m \u001b[0mChips\u001b[0m\u001b[1;33m(\u001b[0m\u001b[1;33m)\u001b[0m \u001b[1;31m## DEFAUL VALUE OF CIPS = 100\u001b[0m\u001b[1;33m\u001b[0m\u001b[0m\n\u001b[0;32m     15\u001b[0m \u001b[1;33m\u001b[0m\u001b[0m\n\u001b[1;32m---> 16\u001b[1;33m     \u001b[0mtake_bet\u001b[0m\u001b[1;33m(\u001b[0m\u001b[0mplayer_chips\u001b[0m\u001b[1;33m)\u001b[0m\u001b[1;33m\u001b[0m\u001b[0m\n\u001b[0m\u001b[0;32m     17\u001b[0m     \u001b[0mshow_some\u001b[0m\u001b[1;33m(\u001b[0m\u001b[0mplayer_hand\u001b[0m\u001b[1;33m,\u001b[0m \u001b[0mdealer_hand\u001b[0m\u001b[1;33m)\u001b[0m\u001b[1;33m\u001b[0m\u001b[0m\n\u001b[0;32m     18\u001b[0m \u001b[1;33m\u001b[0m\u001b[0m\n",
      "\u001b[1;32m<ipython-input-30-21294088a664>\u001b[0m in \u001b[0;36mtake_bet\u001b[1;34m(chips)\u001b[0m\n\u001b[0;32m      8\u001b[0m \u001b[1;33m\u001b[0m\u001b[0m\n\u001b[0;32m      9\u001b[0m         \u001b[1;32melse\u001b[0m\u001b[1;33m:\u001b[0m\u001b[1;33m\u001b[0m\u001b[0m\n\u001b[1;32m---> 10\u001b[1;33m             \u001b[1;32mif\u001b[0m \u001b[0mchips\u001b[0m\u001b[1;33m.\u001b[0m\u001b[0mbet\u001b[0m \u001b[1;33m>\u001b[0m \u001b[0mtotal\u001b[0m\u001b[1;33m.\u001b[0m\u001b[0mchips\u001b[0m\u001b[1;33m:\u001b[0m\u001b[1;33m\u001b[0m\u001b[0m\n\u001b[0m\u001b[0;32m     11\u001b[0m                 \u001b[0mprint\u001b[0m\u001b[1;33m(\u001b[0m\u001b[1;34m'you do not have enough chips, you have {} chips'\u001b[0m\u001b[1;33m.\u001b[0m\u001b[0mformat\u001b[0m\u001b[1;33m(\u001b[0m\u001b[0mtotal\u001b[0m\u001b[1;33m.\u001b[0m\u001b[0mchips\u001b[0m\u001b[1;33m)\u001b[0m\u001b[1;33m)\u001b[0m\u001b[1;33m\u001b[0m\u001b[0m\n\u001b[0;32m     12\u001b[0m             \u001b[1;32melse\u001b[0m\u001b[1;33m:\u001b[0m\u001b[1;33m\u001b[0m\u001b[0m\n",
      "\u001b[1;31mNameError\u001b[0m: name 'total' is not defined"
     ]
    }
   ],
   "source": [
    "## FINAL PART OF THE GAME.. CALLING THE MADE FUNCTIONS\n",
    "\n",
    "while True:\n",
    "    \n",
    "    print('WELCOME TO THE BLACK_JACK..!!')\n",
    "    \n",
    "    deck = Deck()\n",
    "    deck.shuffle()\n",
    "    \n",
    "    player_hand = Hand()\n",
    "    player_hand.add_card(deck.deal())\n",
    "    player_hand.add_card(deck.deal())\n",
    "    \n",
    "    player_chips = Chips() ## DEFAUL VALUE OF CIPS = 100\n",
    "    \n",
    "    take_bet(player_chips)\n",
    "    show_some(player_hand, dealer_hand)\n",
    "    \n",
    "    \n",
    "    while playing:\n",
    "        \n",
    "        hit_or_stand(deck,player_hand)\n",
    "        \n",
    "        show_some(player_hand,dealer_hand)\n",
    "        \n",
    "        ## if player's hand exceeds 21, run player busts! break out of loop!\n",
    "        \n",
    "        if player_hand.value > 21:\n",
    "            player_busts(player_hand, dealer_hand, player_chips)\n",
    "            break\n",
    "            \n",
    "        ## IF PLAYER HANS'T BUSTED! PLAY DEALER'S HAND UNTIL DEALER REACHES 17!\n",
    "        \n",
    "        if player_hand.value <= 21:\n",
    "            \n",
    "            while dealer_hand.value < 17:\n",
    "                hit(deck,dealer_hand)\n",
    "                \n",
    "                ## SHOW ALL CARDS!!\n",
    "                \n",
    "                show_all(player_hand,dealer_hand)\n",
    "                \n",
    "                if dealer_hand.value > 21:\n",
    "                    dealer_busts(player_hand,dealer_hand,chips)\n",
    "                elif dealer_hand.value > player_hand.value:\n",
    "                    dealer_wins(player_hand,dealer_hand,player_chips)\n",
    "                elif dealer_hand.value < player_hand.value:\n",
    "                    player_wins(player_hand,dealer_hand,player_chips)\n",
    "                else:\n",
    "                    push(player_hand,dealer_hand)\n",
    "                    \n",
    "            ## inform player's of their total_chips\n",
    "            print('\\n player winning stand at',player_chips.total)\n",
    "            \n",
    "            ## Ask to play again..\n",
    "            new_game = input('would you like to play again: y or n?')\n",
    "            \n",
    "            if new_game[0].lower() == 'y':\n",
    "                playing = True\n",
    "                continue\n",
    "            else:\n",
    "                print('Thank for playing..')\n",
    "                break"
   ]
  },
  {
   "cell_type": "code",
   "execution_count": null,
   "metadata": {},
   "outputs": [],
   "source": [
    "            "
   ]
  }
 ],
 "metadata": {
  "celltoolbar": "Edit Metadata",
  "kernelspec": {
   "display_name": "Python 3",
   "language": "python",
   "name": "python3"
  },
  "language_info": {
   "codemirror_mode": {
    "name": "ipython",
    "version": 3
   },
   "file_extension": ".py",
   "mimetype": "text/x-python",
   "name": "python",
   "nbconvert_exporter": "python",
   "pygments_lexer": "ipython3",
   "version": "3.6.7"
  }
 },
 "nbformat": 4,
 "nbformat_minor": 2
}
