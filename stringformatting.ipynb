{
 "cells": [
  {
   "cell_type": "code",
   "execution_count": 1,
   "metadata": {},
   "outputs": [
    {
     "ename": "SyntaxError",
     "evalue": "invalid syntax (<ipython-input-1-6960a82c1055>, line 1)",
     "output_type": "error",
     "traceback": [
      "\u001b[1;36m  File \u001b[1;32m\"<ipython-input-1-6960a82c1055>\"\u001b[1;36m, line \u001b[1;32m1\u001b[0m\n\u001b[1;33m    print ('my name is umair %s' %s\"shah\")\u001b[0m\n\u001b[1;37m                                        ^\u001b[0m\n\u001b[1;31mSyntaxError\u001b[0m\u001b[1;31m:\u001b[0m invalid syntax\n"
     ]
    }
   ],
   "source": [
    "print ('my name is umair %s' %s\"shah\")"
   ]
  },
  {
   "cell_type": "code",
   "execution_count": 2,
   "metadata": {},
   "outputs": [
    {
     "name": "stdout",
     "output_type": "stream",
     "text": [
      "I'm going to inject something here.\n"
     ]
    }
   ],
   "source": [
    "print(\"I'm going to inject %s here.\" %'something')"
   ]
  },
  {
   "cell_type": "code",
   "execution_count": 3,
   "metadata": {},
   "outputs": [
    {
     "name": "stdout",
     "output_type": "stream",
     "text": [
      "my name is Umair shah\n"
     ]
    }
   ],
   "source": [
    "print (\"my name is Umair %s\" %\"shah\")"
   ]
  },
  {
   "cell_type": "code",
   "execution_count": 4,
   "metadata": {},
   "outputs": [
    {
     "name": "stdout",
     "output_type": "stream",
     "text": [
      "my name is umair shah\n"
     ]
    }
   ],
   "source": [
    "print (\"my name is umair %s\" %\"shah\")"
   ]
  },
  {
   "cell_type": "code",
   "execution_count": 5,
   "metadata": {},
   "outputs": [],
   "source": [
    "name = \"umair\""
   ]
  },
  {
   "cell_type": "code",
   "execution_count": 6,
   "metadata": {},
   "outputs": [
    {
     "name": "stdout",
     "output_type": "stream",
     "text": [
      "my name is umair shah\n"
     ]
    }
   ],
   "source": [
    "print (\"my name is umair {}\".format(\"shah\"))"
   ]
  },
  {
   "cell_type": "code",
   "execution_count": 7,
   "metadata": {},
   "outputs": [
    {
     "name": "stdout",
     "output_type": "stream",
     "text": [
      "my name is umair shah, my brother name is tahir shah\n"
     ]
    }
   ],
   "source": [
    "print (\"my name is umair %s, my brother name is tahir %s\" %(\"shah\",\"shah\"))"
   ]
  },
  {
   "cell_type": "code",
   "execution_count": 17,
   "metadata": {},
   "outputs": [
    {
     "name": "stdout",
     "output_type": "stream",
     "text": [
      "my name is umair shah, and my father name is Akbar shah\n"
     ]
    }
   ],
   "source": [
    "x=\"shah\"\n",
    "y=\"Akbar\"\n",
    "\n",
    "print (\"my name is umair %s, and my father name is %s shah\" %(x,y) )"
   ]
  },
  {
   "cell_type": "code",
   "execution_count": 21,
   "metadata": {},
   "outputs": [
    {
     "name": "stdout",
     "output_type": "stream",
     "text": [
      "my name is umair and my niece name is DUA\n"
     ]
    }
   ],
   "source": [
    "print (\"my name is %s and my niece name is %s\" %(\"umair\",\"DUA\"))"
   ]
  },
  {
   "cell_type": "code",
   "execution_count": 23,
   "metadata": {},
   "outputs": [
    {
     "name": "stdout",
     "output_type": "stream",
     "text": [
      "I wrote 3 programs today\n",
      "I wrote 3 programs today\n"
     ]
    }
   ],
   "source": [
    "print (\"I wrote %s programs today\" %3)\n",
    "print (\"I wrote %d programs today\" %3)"
   ]
  },
  {
   "cell_type": "code",
   "execution_count": 25,
   "metadata": {},
   "outputs": [
    {
     "name": "stdout",
     "output_type": "stream",
     "text": [
      "my name is Umair shah\n"
     ]
    }
   ],
   "source": [
    "print (\"my name is Umair %s\" %'shah')"
   ]
  },
  {
   "cell_type": "code",
   "execution_count": 26,
   "metadata": {},
   "outputs": [
    {
     "name": "stdout",
     "output_type": "stream",
     "text": [
      "my name is umair 'shah'\n"
     ]
    }
   ],
   "source": [
    "print ('my name is umair %r' %'shah')"
   ]
  },
  {
   "cell_type": "code",
   "execution_count": 27,
   "metadata": {},
   "outputs": [
    {
     "name": "stdout",
     "output_type": "stream",
     "text": [
      "my name is umair shah!\n"
     ]
    }
   ],
   "source": [
    "print ('my name is umair %s' %'shah!')"
   ]
  },
  {
   "cell_type": "code",
   "execution_count": 28,
   "metadata": {},
   "outputs": [
    {
     "name": "stdout",
     "output_type": "stream",
     "text": [
      "my name is umair shah\n"
     ]
    }
   ],
   "source": [
    "print (\"my name is umair %s\" %\"shah\")"
   ]
  },
  {
   "cell_type": "code",
   "execution_count": 29,
   "metadata": {},
   "outputs": [
    {
     "name": "stdout",
     "output_type": "stream",
     "text": [
      "my name is umair shah, I was born in karachi\n"
     ]
    }
   ],
   "source": [
    "print (\"my name is %s shah, I was born in %s\" %(\"umair\",\"karachi\"))"
   ]
  },
  {
   "cell_type": "code",
   "execution_count": 30,
   "metadata": {},
   "outputs": [
    {
     "name": "stdout",
     "output_type": "stream",
     "text": [
      "my name is umair, and my brother name is tahir shah\n"
     ]
    }
   ],
   "source": [
    "x=\"umair\"\n",
    "y=\"shah\"\n",
    "\n",
    "print (\"my name is %s, and my brother name is tahir %s\" % (x,y))"
   ]
  },
  {
   "cell_type": "code",
   "execution_count": 31,
   "metadata": {},
   "outputs": [
    {
     "name": "stdout",
     "output_type": "stream",
     "text": [
      "I wrote 5 programs today\n"
     ]
    }
   ],
   "source": [
    "print (\"I wrote %d programs today\" %5.6995)"
   ]
  },
  {
   "cell_type": "code",
   "execution_count": 32,
   "metadata": {},
   "outputs": [
    {
     "name": "stdout",
     "output_type": "stream",
     "text": [
      "floating point numbers:        12.35\n"
     ]
    }
   ],
   "source": [
    "print (\"floating point numbers: %12.2f\" %12.345)"
   ]
  },
  {
   "cell_type": "code",
   "execution_count": 37,
   "metadata": {},
   "outputs": [
    {
     "name": "stdout",
     "output_type": "stream",
     "text": [
      "floating point numbers: 45.4875\n"
     ]
    }
   ],
   "source": [
    "\n",
    "print (\"floating point numbers: %4.4f\" %45.487454455)"
   ]
  },
  {
   "cell_type": "code",
   "execution_count": 38,
   "metadata": {},
   "outputs": [
    {
     "name": "stdout",
     "output_type": "stream",
     "text": [
      "floating point numbers: 12.47\n"
     ]
    }
   ],
   "source": [
    "print (\"floating point numbers: %3.2f\" %12.473 )"
   ]
  },
  {
   "cell_type": "code",
   "execution_count": null,
   "metadata": {},
   "outputs": [],
   "source": [
    "print (\"this is an %s, of %1.345f, and also of last %r\" %(\"example\", ))"
   ]
  }
 ],
 "metadata": {
  "kernelspec": {
   "display_name": "Python 3",
   "language": "python",
   "name": "python3"
  },
  "language_info": {
   "codemirror_mode": {
    "name": "ipython",
    "version": 3
   },
   "file_extension": ".py",
   "mimetype": "text/x-python",
   "name": "python",
   "nbconvert_exporter": "python",
   "pygments_lexer": "ipython3",
   "version": "3.6.5"
  }
 },
 "nbformat": 4,
 "nbformat_minor": 2
}
