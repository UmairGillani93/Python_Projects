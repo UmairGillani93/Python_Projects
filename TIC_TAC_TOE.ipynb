{
 "cells": [
  {
   "cell_type": "code",
   "execution_count": 20,
   "metadata": {},
   "outputs": [],
   "source": [
    "from IPython.display import clear_output\n",
    "\n",
    "## STEP#1: TO CREATE A TIC_TAC_TOE BOARD..\n",
    "\n",
    "def display_board(board):\n",
    "    \n",
    "    clear_output()\n",
    "    print('   |    |')\n",
    "    print(' ' +  board[7] + ' | ' + board[8] + '  | ' + board[9])\n",
    "    print('   |    |')\n",
    "    print('-------------')\n",
    "    print('   |    |')\n",
    "    print(' ' +  board[4] + ' | ' + board[5] + '  | ' + board[6])\n",
    "    print('   |    |')\n",
    "    print('-------------')\n",
    "    print('   |    |')\n",
    "    print(' ' +  board[1] + ' | ' + board[2] + '  | ' + board[3])\n",
    "    print('   |    |')\n",
    "    "
   ]
  },
  {
   "cell_type": "code",
   "execution_count": 21,
   "metadata": {},
   "outputs": [
    {
     "name": "stdout",
     "output_type": "stream",
     "text": [
      "   |    |\n",
      " O | X  | O\n",
      "   |    |\n",
      "-------------\n",
      "   |    |\n",
      " X | O  | X\n",
      "   |    |\n",
      "-------------\n",
      "   |    |\n",
      " O | X  | O\n",
      "   |    |\n"
     ]
    }
   ],
   "source": [
    "test_board = ['1','O','X','O','X','O','X','O','X','O']\n",
    "\n",
    "display_board(test_board)\n",
    "display_board(test_board)\n",
    "display_board(test_board)"
   ]
  },
  {
   "cell_type": "code",
   "execution_count": 3,
   "metadata": {},
   "outputs": [],
   "source": [
    "## STEP#2: CREATE A FUNCTION THAT CHOOSES A PLAYER'S MARKER..\n",
    "\n",
    "def player_input():\n",
    "    marker = ''\n",
    "    \n",
    "    while not (marker == 'X' or marker == 'O'):\n",
    "        marker = input('Player 1: Do you want to be X or O? ').upper()\n",
    "\n",
    "    if marker == 'X':\n",
    "        return ('X', 'O')\n",
    "    else:\n",
    "        return ('O', 'X')"
   ]
  },
  {
   "cell_type": "code",
   "execution_count": 22,
   "metadata": {},
   "outputs": [
    {
     "name": "stdout",
     "output_type": "stream",
     "text": [
      "Player 1: Do you want to be X or O? x\n"
     ]
    },
    {
     "data": {
      "text/plain": [
       "('X', 'O')"
      ]
     },
     "execution_count": 22,
     "metadata": {},
     "output_type": "execute_result"
    }
   ],
   "source": [
    "player_input()"
   ]
  },
  {
   "cell_type": "code",
   "execution_count": 23,
   "metadata": {},
   "outputs": [],
   "source": [
    "## STEP#3: MAKE A FUNCTION THAT ASSIGNS BOARD OBJECT (MARKER) TO THE POSITION ON BOARD AS PER CORRESPONDING KEY..\n",
    "\n",
    "def place_marker(board, marker, position):\n",
    "    \n",
    "    board[position] = marker"
   ]
  },
  {
   "cell_type": "code",
   "execution_count": 24,
   "metadata": {},
   "outputs": [
    {
     "data": {
      "text/plain": [
       "['1', 'O', 'X', 'O', 'X', 'O', 'X', 'O', 'X', 'O']"
      ]
     },
     "execution_count": 24,
     "metadata": {},
     "output_type": "execute_result"
    }
   ],
   "source": [
    "test_board"
   ]
  },
  {
   "cell_type": "code",
   "execution_count": 26,
   "metadata": {},
   "outputs": [
    {
     "name": "stdout",
     "output_type": "stream",
     "text": [
      "   |    |\n",
      " O | $  | O\n",
      "   |    |\n",
      "-------------\n",
      "   |    |\n",
      " X | O  | X\n",
      "   |    |\n",
      "-------------\n",
      "   |    |\n",
      " O | X  | O\n",
      "   |    |\n"
     ]
    }
   ],
   "source": [
    "place_marker(test_board,'$',8)\n",
    "display_board(test_board)"
   ]
  },
  {
   "cell_type": "code",
   "execution_count": 27,
   "metadata": {},
   "outputs": [],
   "source": [
    "## STEP#4: MAKE A FUNCTION, THAT CHECKS IF THE PLAYER HAS WON..!!\n",
    "\n",
    "def win_check(board,mark):\n",
    "    \n",
    "    # check for all rows..\n",
    "\n",
    "    \n",
    "     return ((board[1] == board[2] == board[3] == mark) or # lower row\n",
    "    (board[4] == board[5] == board[6] == mark) or # middle row\n",
    "    (board[7] == board[8] == board[9] == mark) or # upper row\n",
    "    \n",
    "    # check for columns..\n",
    "    \n",
    "    (board[1] == board[4] == board[7] == mark) or # left column\n",
    "    (board[2] == board[5] == board[8] == mark) or # middle column\n",
    "    (board[3] == board[6] == board[9] == mark) or # right columm\n",
    "             \n",
    "     # check for diagonals..        \n",
    "    \n",
    "    (board[3] == board[5] == board[7] == mark) or # firsd diagonal\n",
    "    (board[1] == board[5] == board[9] == mark))    # second diagonal"
   ]
  },
  {
   "cell_type": "code",
   "execution_count": 9,
   "metadata": {},
   "outputs": [
    {
     "name": "stdout",
     "output_type": "stream",
     "text": [
      "   |    |\n",
      " O | $  | O\n",
      "   |    |\n",
      "-------------\n",
      "   |    |\n",
      " X | O  | X\n",
      "   |    |\n",
      "-------------\n",
      "   |    |\n",
      " O | X  | O\n",
      "   |    |\n"
     ]
    },
    {
     "data": {
      "text/plain": [
       "True"
      ]
     },
     "execution_count": 9,
     "metadata": {},
     "output_type": "execute_result"
    }
   ],
   "source": [
    "display_board(test_board)\n",
    "win_check(test_board,'O')"
   ]
  },
  {
   "cell_type": "code",
   "execution_count": 10,
   "metadata": {},
   "outputs": [],
   "source": [
    "## STEP#5: CHOOSE RANDOMLY FOR EITHER OF THE PLAYERS TO GO FIRST..\n",
    "\n",
    "import random\n",
    "\n",
    "def choose_first():\n",
    "    \n",
    "    flip = random.randint(0,1)\n",
    "    \n",
    "    if flip == 0:\n",
    "        return 'Player 1'\n",
    "    else:\n",
    "        return 'Player 2'"
   ]
  },
  {
   "cell_type": "code",
   "execution_count": 28,
   "metadata": {},
   "outputs": [],
   "source": [
    "## STEP#6: CHECK IF THE POSITION ON THE BOARD IS EMPTY..\n",
    "\n",
    "def space_check(board, position):\n",
    "    \n",
    "    return board[position] == ' '"
   ]
  },
  {
   "cell_type": "code",
   "execution_count": 12,
   "metadata": {},
   "outputs": [],
   "source": [
    "## STEP#7: CHECK IF THE BOARD IS FULL.\n",
    "\n",
    "def ful_baord_check(board):\n",
    "    \n",
    "    for i in range(1,10):\n",
    "        if space_check(board,i):\n",
    "            return False\n",
    "        \n",
    "    ## BOARD IS FULL IF WE RETURN TRUE..\n",
    "    \n",
    "    return True"
   ]
  },
  {
   "cell_type": "code",
   "execution_count": 13,
   "metadata": {},
   "outputs": [],
   "source": [
    "## STEP#8: CHECK FOR THE INPUT THE PLAYER IS PUTTING, IF IT'S WRONG, OR CHEKC IF THE POSITION IS STILL AVAILABLE..\n",
    "\n",
    "def player_choice(board):\n",
    "    \n",
    "    position = 0\n",
    "    \n",
    "    while position not in [1,2,3,4,5,6,7,8,9] or not space_check(board,position):\n",
    "        position = int(input('Choose a position (1-9): '))\n",
    "        \n",
    "    return position\n",
    "        "
   ]
  },
  {
   "cell_type": "code",
   "execution_count": 14,
   "metadata": {},
   "outputs": [],
   "source": [
    "## STEP#9: ASK IF THE PLAYER WANTS TO PLAY AGAIN.\n",
    "\n",
    "def replay():\n",
    "    \n",
    "    choice = input('Play Again? Enter YES or No')\n",
    "    \n",
    "    return choice == 'YES'"
   ]
  },
  {
   "cell_type": "code",
   "execution_count": null,
   "metadata": {},
   "outputs": [],
   "source": [
    "## STEP#10: SET UP EVERYTHING..\n",
    "\n",
    "print(\"Welcome to the Tic Tac Toe..!!\")\n",
    "\n",
    "while True:\n",
    "    \n",
    "    ## PLAY THE GAME..\n",
    "    \n",
    "    \n",
    "    ## SET UP EVERYTHING (BOARD, WHOSE FIRST, X'S AND O'S)\n",
    "    \n",
    "    the_board = [' ']*10\n",
    "    player1_marker, player2_marker = player_input()\n",
    "    \n",
    "    turn = choose_first()\n",
    "    print(turn + ' will go first')\n",
    "    \n",
    "    play_game = input('Ready to play game? Y or N:')\n",
    "    \n",
    "    if play_game == 'Y':\n",
    "        game_on = True\n",
    "    else:\n",
    "        game_on = False\n",
    "        \n",
    "    \n",
    "    # GAME PLAY\n",
    "    \n",
    "    while game_on:\n",
    "        \n",
    "        if turn == 'Player 1':\n",
    "            \n",
    "            ## display the board\n",
    "            \n",
    "            display_board(the_board)\n",
    "            \n",
    "            ## choose a position\n",
    "            \n",
    "            position = player_choice(the_board)\n",
    "            \n",
    "             ## put marker on position chosen\n",
    "            place_marker(the_board,player1_marker,position)\n",
    "            \n",
    "            \n",
    "            ## check if they have won\n",
    "            \n",
    "            if win_check(the_board,player1_marker):\n",
    "                \n",
    "                display_board(the_board)\n",
    "                print(\"Player1 has won..!!\")\n",
    "                game_one = False \n",
    "                \n",
    "            else:\n",
    "                if full_board_check(the_board):\n",
    "                    display_board(the_board)\n",
    "                    print('TIE GAME!')\n",
    "                    game_one = False\n",
    "                    \n",
    "                    \n",
    "                    \n",
    "        \n",
    "        else:\n",
    "            \n",
    "            turn = 'Player 2'\n",
    "            \n",
    "            ## display the board\n",
    "            \n",
    "            display_board(the_board)\n",
    "            \n",
    "            ## choose a position\n",
    "            \n",
    "            position = player_choice(the_board)\n",
    "            \n",
    "             ## put marker on position chosen\n",
    "            place_marker(the_board,player2_marker,position)\n",
    "            \n",
    "            \n",
    "            ## check if they have won\n",
    "            \n",
    "            if win_check(the_board,player1_marker):\n",
    "                \n",
    "                display_board(the_board)\n",
    "                print(\"Player2 has won..!!\")\n",
    "                game_one = False \n",
    "                \n",
    "            else:\n",
    "                if full_board_check(the_board):\n",
    "                    display_board(the_board)\n",
    "                    print('TIE GAME!')\n",
    "                    game_one = False\n",
    "                    \n",
    "                else:\n",
    "                    turn = 'Player 1'\n",
    "                    \n",
    "                    \n",
    "    if not replay():\n",
    "        break"
   ]
  }
 ],
 "metadata": {
  "kernelspec": {
   "display_name": "Python 3",
   "language": "python",
   "name": "python3"
  },
  "language_info": {
   "codemirror_mode": {
    "name": "ipython",
    "version": 3
   },
   "file_extension": ".py",
   "mimetype": "text/x-python",
   "name": "python",
   "nbconvert_exporter": "python",
   "pygments_lexer": "ipython3",
   "version": "3.6.7"
  }
 },
 "nbformat": 4,
 "nbformat_minor": 2
}
